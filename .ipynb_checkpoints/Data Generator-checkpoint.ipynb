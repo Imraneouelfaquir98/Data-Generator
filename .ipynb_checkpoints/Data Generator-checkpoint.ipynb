{
 "cells": [
  {
   "cell_type": "code",
   "execution_count": 1,
   "metadata": {},
   "outputs": [],
   "source": [
    "import numpy as np\n",
    "import pandas as pd"
   ]
  },
  {
   "cell_type": "code",
   "execution_count": 2,
   "metadata": {},
   "outputs": [],
   "source": [
    "def factorial(n):\n",
    "    assert(n >= 0)\n",
    "    if n <= 1:\n",
    "        return 1\n",
    "    else:\n",
    "        return n * factorial(n-1)"
   ]
  },
  {
   "cell_type": "code",
   "execution_count": 3,
   "metadata": {},
   "outputs": [],
   "source": [
    "def pk(lmbda, k):\n",
    "    return np.exp(-lmbda) * (np.power(lmbda, k)/factorial(k))"
   ]
  },
  {
   "cell_type": "code",
   "execution_count": 86,
   "metadata": {},
   "outputs": [],
   "source": [
    "def generate_data(lambdas, customer_coors, T = 480, file_name = \"data.csv\"):\n",
    "    req = 1\n",
    "    X = np.array([ 0, 70, 70,-1]).reshape(1, 4)\n",
    "    for t in range(T):\n",
    "        for c in range(lambdas.shape[0]):\n",
    "            if np.random.uniform(0,1) < pk(lambdas[c], 1):\n",
    "                X = np.append(X, np.array([ req, customer_coors[c][0], customer_coors[c][1], t]).reshape(1, 4), axis = 0)\n",
    "                req += 1\n",
    "    head  = [ \"Req\", \"X_Coor\", \"Y_Coor\", \"Arr\"]\n",
    "    df = pd.DataFrame(X)\n",
    "    df.columns = head\n",
    "    return df.to_csv(file_name, index = False)"
   ]
  },
  {
   "cell_type": "code",
   "execution_count": 101,
   "metadata": {},
   "outputs": [],
   "source": [
    "nbr_customers = 10\n",
    "nbr_dataset   = 10\n",
    "\n",
    "customer_coors = np.random.randint(0, 200, (nbr_customers,2))\n",
    "lambdas = np.array([0.02 for i in range(nbr_customers)])\n",
    "\n",
    "for i in range(nbr_dataset):\n",
    "    generate_data(lambdas, customer_coors, file_name = 'data_'+str(i+1)+'.csv')"
   ]
  }
 ],
 "metadata": {
  "kernelspec": {
   "display_name": "Python 3",
   "language": "python",
   "name": "python3"
  },
  "language_info": {
   "codemirror_mode": {
    "name": "ipython",
    "version": 3
   },
   "file_extension": ".py",
   "mimetype": "text/x-python",
   "name": "python",
   "nbconvert_exporter": "python",
   "pygments_lexer": "ipython3",
   "version": "3.8.5"
  }
 },
 "nbformat": 4,
 "nbformat_minor": 4
}
